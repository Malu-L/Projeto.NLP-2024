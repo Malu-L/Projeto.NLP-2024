{
 "cells": [
  {
   "cell_type": "code",
   "execution_count": 36,
   "metadata": {},
   "outputs": [],
   "source": [
    "#!pip install -U transformers\n",
    "#!pip install -q gradio"
   ]
  },
  {
   "cell_type": "code",
   "execution_count": 37,
   "metadata": {},
   "outputs": [],
   "source": [
    "from transformers import GPT2Tokenizer, GPT2LMHeadModel\n",
    "import gradio as gr"
   ]
  },
  {
   "cell_type": "code",
   "execution_count": 38,
   "metadata": {},
   "outputs": [],
   "source": [
    "#tokenizer = GPT2Tokenizer.from_pretrained(\"gpt2\")\n",
    "#model = GPT2LMHeadModel.from_pretrained(\"gpt2\", pad_token_id=tokenizer.eos_token_id)"
   ]
  },
  {
   "cell_type": "code",
   "execution_count": 39,
   "metadata": {},
   "outputs": [],
   "source": [
    "import torch\n",
    "from transformers import LEDTokenizer, LEDForConditionalGeneration\n",
    "tokenizer = LEDTokenizer.from_pretrained(\"bakhitovd/led-base-7168-ml\")\n",
    "model = LEDForConditionalGeneration.from_pretrained(\"bakhitovd/led-base-7168-ml\")"
   ]
  },
  {
   "cell_type": "code",
   "execution_count": 40,
   "metadata": {},
   "outputs": [],
   "source": [
    "# Initialize conversation history\n",
    "conversation_history = []\n",
    "\n",
    "# Define the text generation function\n",
    "def generate_text(input_text):\n",
    "    global conversation_history\n",
    "    # Append the new input to the conversation history\n",
    "    conversation_history.append(f\"User: {input_text}\")\n",
    "    # Concatenate the conversation history\n",
    "    context = \" \".join(conversation_history)\n",
    "    input_ids = tokenizer.encode(context, return_tensors='pt')\n",
    "    \n",
    "    # Truncate the input_ids if it exceeds the model's maximum length\n",
    "    max_length = model.config.max_position_embeddings\n",
    "    if input_ids.shape[1] > max_length:\n",
    "        input_ids = input_ids[:, -max_length:]\n",
    "    \n",
    "    # Generate text with adjusted parameters\n",
    "    generated_ids = model.generate(\n",
    "        input_ids, \n",
    "        max_length=150,  # Adjusted max_length\n",
    "        num_beams=5, \n",
    "        no_repeat_ngram_size=2, \n",
    "        early_stopping=True,\n",
    "        temperature=0.7,  # Added temperature\n",
    "        top_p=0.7  # Added top_p\n",
    "    )\n",
    "    output = tokenizer.decode(generated_ids[0], skip_special_tokens=True, clean_up_tokenization_spaces=True)\n",
    "    # Append the model's output to the conversation history\n",
    "    conversation_history.append(f\"AI: {output}\")\n",
    "    return output\n",
    "\n",
    "# Define a function to reset the conversation history\n",
    "def reset_history():\n",
    "    global conversation_history\n",
    "    conversation_history = []\n",
    "    return \"History reset.\""
   ]
  },
  {
   "cell_type": "code",
   "execution_count": 41,
   "metadata": {},
   "outputs": [
    {
     "name": "stdout",
     "output_type": "stream",
     "text": [
      "* Running on local URL:  http://127.0.0.1:7860\n",
      "\n",
      "To create a public link, set `share=True` in `launch()`.\n"
     ]
    },
    {
     "data": {
      "text/html": [
       "<div><iframe src=\"http://127.0.0.1:7860/\" width=\"100%\" height=\"500\" allow=\"autoplay; camera; microphone; clipboard-read; clipboard-write;\" frameborder=\"0\" allowfullscreen></iframe></div>"
      ],
      "text/plain": [
       "<IPython.core.display.HTML object>"
      ]
     },
     "metadata": {},
     "output_type": "display_data"
    },
    {
     "data": {
      "text/plain": []
     },
     "execution_count": 41,
     "metadata": {},
     "output_type": "execute_result"
    }
   ],
   "source": [
    "# Create the Gradio interface\n",
    "with gr.Blocks() as demo:\n",
    "    gr.Markdown(\"# Game Story!\")\n",
    "    gr.Markdown(\"A game where you play a story of your own with the AI\")\n",
    "    \n",
    "    with gr.Row():\n",
    "        input_text = gr.Textbox(label=\"Input Text\")\n",
    "        output_text = gr.Textbox(label=\"Output Text\")\n",
    "    \n",
    "    generate_button = gr.Button(\"Generate\")\n",
    "    reset_button = gr.Button(\"Reset History\")\n",
    "    \n",
    "    generate_button.click(generate_text, inputs=input_text, outputs=output_text)\n",
    "    reset_button.click(reset_history, inputs=[], outputs=output_text)\n",
    "\n",
    "# Launch the interface\n",
    "demo.launch()"
   ]
  },
  {
   "cell_type": "code",
   "execution_count": null,
   "metadata": {},
   "outputs": [],
   "source": []
  }
 ],
 "metadata": {
  "kernelspec": {
   "display_name": "Python 3",
   "language": "python",
   "name": "python3"
  },
  "language_info": {
   "codemirror_mode": {
    "name": "ipython",
    "version": 3
   },
   "file_extension": ".py",
   "mimetype": "text/x-python",
   "name": "python",
   "nbconvert_exporter": "python",
   "pygments_lexer": "ipython3",
   "version": "3.10.12"
  }
 },
 "nbformat": 4,
 "nbformat_minor": 2
}
